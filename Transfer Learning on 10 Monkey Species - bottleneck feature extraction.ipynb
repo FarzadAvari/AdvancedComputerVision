{
 "cells": [
  {
   "cell_type": "markdown",
   "metadata": {},
   "source": [
    "### IMPORT LIBRARIES"
   ]
  },
  {
   "cell_type": "code",
   "execution_count": 2,
   "metadata": {},
   "outputs": [],
   "source": [
    "import cv2\n",
    "import os\n",
    "import datetime as dt\n",
    "import glob\n",
    "import itertools\n",
    "import matplotlib.pylab as plt\n",
    "import seaborn as sns\n",
    "import warnings\n",
    "import numpy as np\n",
    "import pandas as pd\n",
    "from tqdm import tqdm, tqdm_notebook\n",
    "from keras import models, layers, optimizers\n",
    "from keras.applications.xception import Xception\n",
    "from keras.applications.resnet50 import ResNet50\n",
    "from keras.applications.inception_resnet_v2 import InceptionResNetV2\n",
    "from keras.applications.inception_v3 import InceptionV3\n",
    "from keras.callbacks import ReduceLROnPlateau\n",
    "from keras.preprocessing.image import ImageDataGenerator\n",
    "\n",
    "warnings.filterwarnings(\"ignore\")\n",
    "%matplotlib inline"
   ]
  },
  {
   "cell_type": "markdown",
   "metadata": {},
   "source": [
    "### PATH TO TRAIN AND VALIDATION DATA"
   ]
  },
  {
   "cell_type": "markdown",
   "metadata": {},
   "source": [
    "Here we will define the paths to our dataset. So we have stored training and testing data in their respective folders. We will provide the respective paths to our training and testing data"
   ]
  },
  {
   "cell_type": "code",
   "execution_count": 3,
   "metadata": {},
   "outputs": [],
   "source": [
    "train_dir = \"F:/datasets/Monkey/training/\" #path to the folder where training data is stored\n",
    "test_dir = \"F:/datasets/Monkey/validation/\" #path to the folder where validation data is stored"
   ]
  },
  {
   "cell_type": "markdown",
   "metadata": {},
   "source": [
    "### GENERATORS"
   ]
  },
  {
   "cell_type": "markdown",
   "metadata": {},
   "source": [
    "Here we will define a function which will help us to load the data directly from our folders. We will use keras's ImageDataGeenrator class to do so. There will be two functions for loading training and testing data."
   ]
  },
  {
   "cell_type": "code",
   "execution_count": 4,
   "metadata": {},
   "outputs": [],
   "source": [
    "# Training generator\n",
    "\n",
    "def train_image_data_generator(train_dir, height, width, batch_size, seed):\n",
    "    \"\"\"\n",
    "    train_dir = path to our training data\n",
    "    height = Height of the image\n",
    "    width = Width of the image\n",
    "    batch_size = Number of images to be loaded in a single batch\n",
    "    see = For reproducibility\n",
    "    \"\"\"\n",
    "    train_datagen = ImageDataGenerator(rescale = 1./255)\n",
    "    train_generator = train_datagen.flow_from_directory(train_dir, \n",
    "                                                        target_size = (height,width),\n",
    "                                                        batch_size = batch_size,\n",
    "                                                        seed = seed,\n",
    "                                                        class_mode = 'categorical')\n",
    "    return train_generator\n",
    "\n",
    "# Test generator\n",
    "def test_image_data_generator(test_dir, height, width, batch_size, seed):\n",
    "    \"\"\"\n",
    "    test_dir = path to our testing data\n",
    "    height = Height of the image\n",
    "    width = Width of the image\n",
    "    batch_size = Number of images to be loaded in a single batch\n",
    "    see = For reproducibility\n",
    "    \"\"\"\n",
    "    test_datagen = ImageDataGenerator(rescale = 1./255)\n",
    "    test_generator = test_datagen.flow_from_directory(test_dir, \n",
    "                                                      target_size = (height,width), \n",
    "                                                      batch_size = batch_size,\n",
    "                                                      seed = seed,\n",
    "                                                      class_mode = 'categorical')\n",
    "    return test_generator"
   ]
  },
  {
   "cell_type": "markdown",
   "metadata": {},
   "source": [
    "## FEATURE EXTRACTION"
   ]
  },
  {
   "cell_type": "markdown",
   "metadata": {},
   "source": [
    "Here we will define a generalized function which will help us to extract features from the given input data. For extracting the data, we will be using some pre-trained imagenet models with their classification layer cut-off"
   ]
  },
  {
   "cell_type": "code",
   "execution_count": 5,
   "metadata": {},
   "outputs": [],
   "source": [
    "def extract_features(sample_count, datagen, model, feature_width, feature_height, feature_channels):\n",
    "    \"\"\"\n",
    "    sample_count = Total number of examples in the training or testing data\n",
    "    datagen = Training or Testing data generator\n",
    "    model = Pre-trained Model to be used to extract features\n",
    "    feature_width = The width of the feature map in the last activation layer\n",
    "    feature_height = The height of the feature map in the last acctivation layer\n",
    "    feature_channels = The number of feature maps in the last layer\n",
    "    \"\"\"\n",
    "    features =  np.zeros(shape = (sample_count, feature_width, feature_height, feature_channels))\n",
    "    labels = np.zeros(shape = (sample_count, 10))\n",
    "    generator = datagen\n",
    "    i = 0\n",
    "    for inputs_batch, labels_batch in generator:\n",
    "        \n",
    "        features_batch = model.predict(inputs_batch)\n",
    "        \n",
    "        features[i * batch_size : (i + 1) * batch_size] = features_batch\n",
    "        labels[i * batch_size : (i + 1) * batch_size] = labels_batch\n",
    "        i += 1\n",
    "        \n",
    "        if i * batch_size >= sample_count:\n",
    "            break\n",
    "            \n",
    "    print(\"\\n\")\n",
    "    \n",
    "    return features, labels"
   ]
  },
  {
   "cell_type": "markdown",
   "metadata": {},
   "source": [
    "## DEFINE CALLBACKS"
   ]
  },
  {
   "cell_type": "markdown",
   "metadata": {},
   "source": [
    "Here we will define a single callback function called ReduceLROnPlateau. With the help of this callback, we can alter our learning rate if the loss appears to plateau."
   ]
  },
  {
   "cell_type": "code",
   "execution_count": 6,
   "metadata": {},
   "outputs": [],
   "source": [
    "#defining callbacks\n",
    "def model_callbacks(monitor, factor, patience, cooldown, min_lr):\n",
    "    \"\"\"\n",
    "    monitor = Quantity to be monitored.\n",
    "    factor = Factor by which the learning rate will be reduced. new_lr = lr * factor\n",
    "    patience = Number of epochs with no improvement after which learning rate will be reduced.\n",
    "    cooldown = Number of epochs to wait before resuming normal operation after lr has been reduced.\n",
    "    min_lr = Lower bound on the learning rate.\n",
    "    \"\"\"\n",
    "    reduce_learning_rate = ReduceLROnPlateau(monitor = monitor,\n",
    "                                             factor = factor,\n",
    "                                             patience = patience,\n",
    "                                             cooldown = cooldown,\n",
    "                                             min_lr = min_lr,\n",
    "                                             verbose = 1)\n",
    "\n",
    "    callbacks = [reduce_learning_rate]\n",
    "    return callbacks"
   ]
  },
  {
   "cell_type": "markdown",
   "metadata": {},
   "source": [
    "### PLOT LOSS AND ACCURACY CURVES"
   ]
  },
  {
   "cell_type": "markdown",
   "metadata": {},
   "source": [
    "Here we will write a function which would plot us an accuracy and loss plots after the model has been trained"
   ]
  },
  {
   "cell_type": "code",
   "execution_count": 7,
   "metadata": {},
   "outputs": [],
   "source": [
    "def plot_curve(history, model_name):\n",
    "    \"\"\"\n",
    "    history = The variable while fitting the model on the dataset\n",
    "    model_name = The name of the model (string)\n",
    "    \"\"\"\n",
    "    acc = history.history['acc']\n",
    "    val_acc = history.history['val_acc']\n",
    "    loss = history.history['loss']\n",
    "    val_loss = history.history['val_loss']\n",
    "    epochs = range(1, len(acc) + 1)\n",
    "    plt.figure(figsize = (15,12))\n",
    "    plt.subplot(211)\n",
    "    plt.plot(epochs, acc, 'bo', label = 'Training acc')\n",
    "    plt.plot(epochs, val_acc, 'b', label = 'Validation acc')\n",
    "    plt.title(model_name + \" --\" + ' Training and validation accuracy')\n",
    "    plt.legend()\n",
    "    plt.figure()\n",
    "\n",
    "    plt.figure(figsize = (15,12))\n",
    "    plt.subplot(212)\n",
    "    plt.plot(epochs, loss, 'bo', label = 'Training loss')\n",
    "    plt.plot(epochs, val_loss, 'b', label = 'Validation loss')\n",
    "    plt.title(model_name + \" --\" + ' Training and validation loss')\n",
    "    plt.legend()\n",
    "    plt.show()"
   ]
  },
  {
   "cell_type": "markdown",
   "metadata": {},
   "source": [
    "### FC MODEL FOR CLASSIFICATION"
   ]
  },
  {
   "cell_type": "markdown",
   "metadata": {},
   "source": [
    "Here we will define a function for fully connected neural network. We will use this neural network to make classifications on the extracted features from our input data"
   ]
  },
  {
   "cell_type": "code",
   "execution_count": 8,
   "metadata": {},
   "outputs": [],
   "source": [
    "def dense_model():\n",
    "    model = models.Sequential()\n",
    "    model.add(layers.Dense(512, activation = 'relu', input_dim = flat_dim))\n",
    "    model.add(layers.Dropout(0.3))\n",
    "    model.add(layers.Dense(256, activation = 'relu', input_dim = flat_dim))\n",
    "    model.add(layers.Dropout(0.3))\n",
    "    model.add(layers.Dense(10, activation = 'softmax'))\n",
    "    model.compile(optimizer = 'adam', loss = 'categorical_crossentropy', metrics = ['acc'])\n",
    "    model.summary()\n",
    "    return model"
   ]
  },
  {
   "cell_type": "markdown",
   "metadata": {},
   "source": [
    "## MODEL 1 - XCEPTION"
   ]
  },
  {
   "cell_type": "code",
   "execution_count": 12,
   "metadata": {},
   "outputs": [],
   "source": [
    "# Initialize the base model\n",
    "#define the parameters required to be passed to ur function\n",
    "height = 150\n",
    "width = 150\n",
    "channels = 3\n",
    "batch_size = 32\n",
    "seed = 1337\n",
    "\n",
    "xception_model = Xception(weights = \"imagenet\",\n",
    "                          include_top = False,\n",
    "                          input_shape = (height, width, channels))"
   ]
  },
  {
   "cell_type": "code",
   "execution_count": 13,
   "metadata": {},
   "outputs": [
    {
     "name": "stdout",
     "output_type": "stream",
     "text": [
      "Found 1097 images belonging to 10 classes.\n",
      "Found 272 images belonging to 10 classes.\n"
     ]
    }
   ],
   "source": [
    "#call the geenrator functions to load our data from the folders\n",
    "\n",
    "train_generator = train_image_data_generator(train_dir = train_dir,\n",
    "                                            height = height,\n",
    "                                            width = height,\n",
    "                                            batch_size = batch_size,\n",
    "                                            seed = seed)\n",
    "\n",
    "test_generator = test_image_data_generator(test_dir = test_dir,\n",
    "                                          height = height,\n",
    "                                          width = width,\n",
    "                                          batch_size = batch_size,\n",
    "                                          seed = seed)"
   ]
  },
  {
   "cell_type": "code",
   "execution_count": 14,
   "metadata": {},
   "outputs": [
    {
     "name": "stdout",
     "output_type": "stream",
     "text": [
      "\n",
      "\n",
      "\n",
      "\n"
     ]
    }
   ],
   "source": [
    "#call the extract_features functions\n",
    "feature_width = 5 #this the output width of the last xception layer\n",
    "feature_height = 5 #this the output height of the last xception layer\n",
    "feature_channels = 2048 #this the output channels of the last xception layer\n",
    "\n",
    "train_features, train_labels = extract_features(train_generator.samples, \n",
    "                                                train_generator, \n",
    "                                                xception_model,\n",
    "                                                feature_width = feature_width,\n",
    "                                                feature_height = feature_height,\n",
    "                                                feature_channels = feature_channels)\n",
    "\n",
    "test_features, test_labels = extract_features(test_generator.samples, \n",
    "                                              test_generator, \n",
    "                                              xception_model,\n",
    "                                              feature_width = feature_width,\n",
    "                                              feature_height = feature_height,\n",
    "                                              feature_channels = feature_channels)"
   ]
  },
  {
   "cell_type": "code",
   "execution_count": 15,
   "metadata": {},
   "outputs": [],
   "source": [
    "#flatten the dimension of the input\n",
    "flat_dim = 5 * 5 * 2048\n",
    "\n",
    "#reshape the training and test features to have a shape of ----> [batch_size, input_dim]\n",
    "train_features = np.reshape(train_features, (train_generator.samples, flat_dim))\n",
    "test_features = np.reshape(test_features, (test_generator.samples, flat_dim))"
   ]
  },
  {
   "cell_type": "code",
   "execution_count": 16,
   "metadata": {},
   "outputs": [
    {
     "name": "stdout",
     "output_type": "stream",
     "text": [
      "WARNING:tensorflow:From D:\\anaconda3\\lib\\site-packages\\keras\\backend\\tensorflow_backend.py:3445: calling dropout (from tensorflow.python.ops.nn_ops) with keep_prob is deprecated and will be removed in a future version.\n",
      "Instructions for updating:\n",
      "Please use `rate` instead of `keep_prob`. Rate should be set to `rate = 1 - keep_prob`.\n",
      "_________________________________________________________________\n",
      "Layer (type)                 Output Shape              Param #   \n",
      "=================================================================\n",
      "dense_1 (Dense)              (None, 512)               26214912  \n",
      "_________________________________________________________________\n",
      "dropout_1 (Dropout)          (None, 512)               0         \n",
      "_________________________________________________________________\n",
      "dense_2 (Dense)              (None, 256)               131328    \n",
      "_________________________________________________________________\n",
      "dropout_2 (Dropout)          (None, 256)               0         \n",
      "_________________________________________________________________\n",
      "dense_3 (Dense)              (None, 10)                2570      \n",
      "=================================================================\n",
      "Total params: 26,348,810\n",
      "Trainable params: 26,348,810\n",
      "Non-trainable params: 0\n",
      "_________________________________________________________________\n"
     ]
    }
   ],
   "source": [
    "#call the dense_model function to build our classification model\n",
    "model = dense_model()"
   ]
  },
  {
   "cell_type": "code",
   "execution_count": 17,
   "metadata": {},
   "outputs": [],
   "source": [
    "#call the callbacks function\n",
    "callbacks = model_callbacks(\"loss\", 0.1, 2, 2, 0.00001)"
   ]
  },
  {
   "cell_type": "code",
   "execution_count": 57,
   "metadata": {},
   "outputs": [
    {
     "name": "stdout",
     "output_type": "stream",
     "text": [
      "Train on 1097 samples, validate on 272 samples\n",
      "Epoch 1/30\n",
      " - 14s - loss: 6.7559 - acc: 0.4932 - val_loss: 4.9567 - val_acc: 0.6654\n",
      "Epoch 2/30\n",
      " - 11s - loss: 4.6700 - acc: 0.6782 - val_loss: 3.8584 - val_acc: 0.7390\n",
      "Epoch 3/30\n",
      " - 11s - loss: 4.2657 - acc: 0.7147 - val_loss: 3.4684 - val_acc: 0.7721\n",
      "Epoch 4/30\n",
      " - 11s - loss: 4.0157 - acc: 0.7347 - val_loss: 3.8190 - val_acc: 0.7537\n",
      "Epoch 5/30\n",
      " - 11s - loss: 4.0637 - acc: 0.7302 - val_loss: 4.3158 - val_acc: 0.7206\n",
      "Epoch 6/30\n",
      " - 11s - loss: 3.8469 - acc: 0.7511 - val_loss: 3.0010 - val_acc: 0.8051\n",
      "Epoch 7/30\n",
      " - 11s - loss: 3.8812 - acc: 0.7475 - val_loss: 2.7118 - val_acc: 0.8199\n",
      "Epoch 8/30\n",
      " - 12s - loss: 3.4716 - acc: 0.7703 - val_loss: 3.4467 - val_acc: 0.7757\n",
      "Epoch 9/30\n",
      " - 12s - loss: 3.4304 - acc: 0.7785 - val_loss: 3.1368 - val_acc: 0.7978\n",
      "Epoch 10/30\n",
      " - 12s - loss: 3.4399 - acc: 0.7767 - val_loss: 3.7331 - val_acc: 0.7647\n",
      "Epoch 11/30\n",
      " - 11s - loss: 3.9916 - acc: 0.7438 - val_loss: 3.0821 - val_acc: 0.7941\n",
      "\n",
      "Epoch 00011: ReduceLROnPlateau reducing learning rate to 0.00010000000474974513.\n",
      "Epoch 12/30\n",
      " - 12s - loss: 2.9897 - acc: 0.8113 - val_loss: 2.9523 - val_acc: 0.8088\n",
      "Epoch 13/30\n",
      " - 12s - loss: 3.0368 - acc: 0.8049 - val_loss: 2.7561 - val_acc: 0.8272\n",
      "Epoch 14/30\n",
      " - 11s - loss: 2.8649 - acc: 0.8168 - val_loss: 2.7260 - val_acc: 0.8235\n",
      "Epoch 15/30\n",
      " - 12s - loss: 2.6906 - acc: 0.8277 - val_loss: 2.7878 - val_acc: 0.8272\n",
      "Epoch 16/30\n",
      " - 12s - loss: 2.7032 - acc: 0.8250 - val_loss: 2.7444 - val_acc: 0.8235\n",
      "Epoch 17/30\n",
      " - 11s - loss: 2.6642 - acc: 0.8295 - val_loss: 2.6456 - val_acc: 0.8272\n",
      "Epoch 18/30\n",
      " - 12s - loss: 2.6364 - acc: 0.8323 - val_loss: 2.7595 - val_acc: 0.8272\n",
      "Epoch 19/30\n",
      " - 12s - loss: 2.5543 - acc: 0.8368 - val_loss: 2.6331 - val_acc: 0.8309\n",
      "Epoch 20/30\n",
      " - 13s - loss: 2.4987 - acc: 0.8405 - val_loss: 2.6230 - val_acc: 0.8309\n",
      "Epoch 21/30\n",
      " - 13s - loss: 2.6117 - acc: 0.8332 - val_loss: 2.7797 - val_acc: 0.8235\n",
      "Epoch 22/30\n",
      " - 14s - loss: 2.5482 - acc: 0.8368 - val_loss: 2.8444 - val_acc: 0.8235\n",
      "\n",
      "Epoch 00022: ReduceLROnPlateau reducing learning rate to 1.0000000474974514e-05.\n",
      "Epoch 23/30\n",
      " - 13s - loss: 2.5233 - acc: 0.8396 - val_loss: 2.8444 - val_acc: 0.8235\n",
      "Epoch 24/30\n",
      " - 13s - loss: 2.4558 - acc: 0.8432 - val_loss: 2.8444 - val_acc: 0.8235\n",
      "Epoch 25/30\n",
      " - 13s - loss: 2.4733 - acc: 0.8441 - val_loss: 2.8444 - val_acc: 0.8235\n",
      "Epoch 26/30\n",
      " - 13s - loss: 2.4829 - acc: 0.8423 - val_loss: 2.8296 - val_acc: 0.8235\n",
      "\n",
      "Epoch 00026: ReduceLROnPlateau reducing learning rate to 1e-05.\n",
      "Epoch 27/30\n",
      " - 13s - loss: 2.4298 - acc: 0.8432 - val_loss: 2.7975 - val_acc: 0.8235\n",
      "Epoch 28/30\n",
      " - 13s - loss: 2.4295 - acc: 0.8469 - val_loss: 2.7767 - val_acc: 0.8235\n",
      "Epoch 29/30\n",
      " - 13s - loss: 2.4141 - acc: 0.8450 - val_loss: 2.7451 - val_acc: 0.8235\n",
      "Epoch 30/30\n",
      " - 13s - loss: 2.5326 - acc: 0.8387 - val_loss: 2.7394 - val_acc: 0.8235\n"
     ]
    }
   ],
   "source": [
    "xception_history = model.fit(train_features, \n",
    "                    train_labels, \n",
    "                    epochs = 30,\n",
    "                    batch_size = batch_size,\n",
    "                    shuffle = True,\n",
    "                    validation_data = (test_features, test_labels),\n",
    "                    verbose = 2,\n",
    "                    callbacks = callbacks)"
   ]
  },
  {
   "cell_type": "code",
   "execution_count": 65,
   "metadata": {},
   "outputs": [
    {
     "data": {
      "image/png": "[encoded data removed]",
      "text/plain": [
       "<Figure size 1080x864 with 1 Axes>"
      ]
     },
     "metadata": {
      "needs_background": "light"
     },
     "output_type": "display_data"
    },
    {
     "data": {
      "text/plain": [
       "<Figure size 432x288 with 0 Axes>"
      ]
     },
     "metadata": {},
     "output_type": "display_data"
    },
    {
     "data": {
      "image/png": "[encoded data removed]",
      "text/plain": [
       "<Figure size 1080x864 with 1 Axes>"
      ]
     },
     "metadata": {
      "needs_background": "light"
     },
     "output_type": "display_data"
    }
   ],
   "source": [
    "#call the plot_curves function to plot the loss and accuracy plots\n",
    "plot_curve(xception_history, \"Xception\")"
   ]
  },
  {
   "cell_type": "markdown",
   "metadata": {},
   "source": [
    "## MODEL 2 - INCEPTION"
   ]
  },
  {
   "cell_type": "code",
   "execution_count": 18,
   "metadata": {},
   "outputs": [],
   "source": [
    "#instantiate the \"INCEPTION\" model\n",
    "#Here we will use a pretrained inception model trained on IMAGENET dataset\n",
    "#define the parameters required to be passed to ur function\n",
    "height = 150\n",
    "width = 150\n",
    "channels = 3\n",
    "batch_size = 32\n",
    "seed = 1337\n",
    "\n",
    "inception_model = InceptionV3(weights = \"imagenet\", include_top = False, input_shape = (height, width, channels))"
   ]
  },
  {
   "cell_type": "code",
   "execution_count": 19,
   "metadata": {},
   "outputs": [
    {
     "name": "stdout",
     "output_type": "stream",
     "text": [
      "Found 1097 images belonging to 10 classes.\n",
      "Found 272 images belonging to 10 classes.\n"
     ]
    }
   ],
   "source": [
    "#call the generator functions to load our data from the folders\n",
    "\n",
    "train_generator = train_image_data_generator(train_dir = train_dir,\n",
    "                                            height = height,\n",
    "                                            width = height,\n",
    "                                            batch_size = batch_size,\n",
    "                                            seed = seed)\n",
    "\n",
    "test_generator = test_image_data_generator(test_dir = test_dir,\n",
    "                                          height = height,\n",
    "                                          width = width,\n",
    "                                          batch_size = batch_size,\n",
    "                                          seed = seed)"
   ]
  },
  {
   "cell_type": "code",
   "execution_count": 20,
   "metadata": {},
   "outputs": [
    {
     "name": "stdout",
     "output_type": "stream",
     "text": [
      "\n",
      "\n",
      "\n",
      "\n"
     ]
    }
   ],
   "source": [
    "#call the extract features function\n",
    "feature_width = 3 #this the output width of the last inception layer\n",
    "feature_height = 3 #this is the output height of the last inception layer\n",
    "feature_channels = 2048 #this the number of channels in the last inception layer\n",
    "\n",
    "train_features, train_labels = extract_features(train_generator.samples, \n",
    "                                                train_generator, \n",
    "                                                inception_model,\n",
    "                                                feature_width = feature_width,\n",
    "                                                feature_height = feature_height,\n",
    "                                                feature_channels = feature_channels)\n",
    "\n",
    "test_features, test_labels = extract_features(test_generator.samples, \n",
    "                                              test_generator, \n",
    "                                              inception_model,\n",
    "                                              feature_width = feature_width,\n",
    "                                              feature_height = feature_height,\n",
    "                                              feature_channels = feature_channels)"
   ]
  },
  {
   "cell_type": "code",
   "execution_count": 21,
   "metadata": {},
   "outputs": [],
   "source": [
    "flat_dim = 3 * 3 * 2048\n",
    "train_features = np.reshape(train_features, (train_generator.samples, flat_dim))\n",
    "test_features = np.reshape(test_features, (test_generator.samples, flat_dim))"
   ]
  },
  {
   "cell_type": "code",
   "execution_count": 22,
   "metadata": {},
   "outputs": [
    {
     "name": "stdout",
     "output_type": "stream",
     "text": [
      "_________________________________________________________________\n",
      "Layer (type)                 Output Shape              Param #   \n",
      "=================================================================\n",
      "dense_4 (Dense)              (None, 512)               9437696   \n",
      "_________________________________________________________________\n",
      "dropout_3 (Dropout)          (None, 512)               0         \n",
      "_________________________________________________________________\n",
      "dense_5 (Dense)              (None, 256)               131328    \n",
      "_________________________________________________________________\n",
      "dropout_4 (Dropout)          (None, 256)               0         \n",
      "_________________________________________________________________\n",
      "dense_6 (Dense)              (None, 10)                2570      \n",
      "=================================================================\n",
      "Total params: 9,571,594\n",
      "Trainable params: 9,571,594\n",
      "Non-trainable params: 0\n",
      "_________________________________________________________________\n"
     ]
    }
   ],
   "source": [
    "#call the dense_model function to build our classification model\n",
    "model = dense_model()"
   ]
  },
  {
   "cell_type": "code",
   "execution_count": 23,
   "metadata": {},
   "outputs": [],
   "source": [
    "#call the model_callbacks function\n",
    "callbacks = model_callbacks(\"loss\", 0.1, 2, 2, 0.00001)"
   ]
  },
  {
   "cell_type": "code",
   "execution_count": 35,
   "metadata": {},
   "outputs": [
    {
     "name": "stdout",
     "output_type": "stream",
     "text": [
      "Train on 1097 samples, validate on 272 samples\n",
      "Epoch 1/30\n",
      " - 7s - loss: 10.0900 - acc: 0.3136 - val_loss: 8.1237 - val_acc: 0.4669\n",
      "Epoch 2/30\n",
      " - 4s - loss: 7.7734 - acc: 0.4913 - val_loss: 6.3298 - val_acc: 0.5956\n",
      "Epoch 3/30\n",
      " - 4s - loss: 6.3069 - acc: 0.5880 - val_loss: 6.5623 - val_acc: 0.5772\n",
      "Epoch 4/30\n",
      " - 4s - loss: 5.9777 - acc: 0.6080 - val_loss: 3.7089 - val_acc: 0.7610\n",
      "Epoch 5/30\n",
      " - 4s - loss: 4.6310 - acc: 0.6901 - val_loss: 4.1191 - val_acc: 0.7426\n",
      "Epoch 6/30\n",
      " - 4s - loss: 4.2667 - acc: 0.7165 - val_loss: 3.2528 - val_acc: 0.7941\n",
      "Epoch 7/30\n",
      " - 4s - loss: 4.0726 - acc: 0.7238 - val_loss: 4.6435 - val_acc: 0.6765\n",
      "Epoch 8/30\n",
      " - 4s - loss: 4.2434 - acc: 0.7192 - val_loss: 2.4101 - val_acc: 0.8346\n",
      "Epoch 9/30\n",
      " - 4s - loss: 2.5147 - acc: 0.8259 - val_loss: 1.8866 - val_acc: 0.8640\n",
      "Epoch 10/30\n",
      " - 4s - loss: 2.5251 - acc: 0.8232 - val_loss: 1.9716 - val_acc: 0.8566\n",
      "Epoch 11/30\n",
      " - 4s - loss: 2.0371 - acc: 0.8624 - val_loss: 2.3788 - val_acc: 0.8382\n",
      "Epoch 12/30\n",
      " - 4s - loss: 2.1528 - acc: 0.8496 - val_loss: 2.2570 - val_acc: 0.8493\n",
      "Epoch 13/30\n",
      " - 4s - loss: 2.0521 - acc: 0.8551 - val_loss: 1.7535 - val_acc: 0.8750\n",
      "\n",
      "Epoch 00013: ReduceLROnPlateau reducing learning rate to 0.00010000000474974513.\n",
      "Epoch 14/30\n",
      " - 4s - loss: 1.5348 - acc: 0.8924 - val_loss: 1.3824 - val_acc: 0.9044\n",
      "Epoch 15/30\n",
      " - 4s - loss: 1.0918 - acc: 0.9253 - val_loss: 1.2790 - val_acc: 0.9118\n",
      "Epoch 16/30\n",
      " - 4s - loss: 1.0931 - acc: 0.9253 - val_loss: 1.2693 - val_acc: 0.9154\n",
      "Epoch 17/30\n",
      " - 4s - loss: 0.9754 - acc: 0.9280 - val_loss: 1.1564 - val_acc: 0.9191\n",
      "Epoch 18/30\n",
      " - 4s - loss: 0.9963 - acc: 0.9298 - val_loss: 1.1529 - val_acc: 0.9154\n",
      "Epoch 19/30\n",
      " - 4s - loss: 0.8711 - acc: 0.9371 - val_loss: 1.1760 - val_acc: 0.9154\n",
      "Epoch 20/30\n",
      " - 4s - loss: 0.9802 - acc: 0.9298 - val_loss: 1.1752 - val_acc: 0.9154\n",
      "Epoch 21/30\n",
      " - 4s - loss: 0.8017 - acc: 0.9417 - val_loss: 1.1340 - val_acc: 0.9265\n",
      "Epoch 22/30\n",
      " - 4s - loss: 1.0273 - acc: 0.9289 - val_loss: 1.1343 - val_acc: 0.9265\n",
      "Epoch 23/30\n",
      " - 4s - loss: 0.7715 - acc: 0.9462 - val_loss: 1.0931 - val_acc: 0.9301\n",
      "Epoch 24/30\n",
      " - 4s - loss: 0.7402 - acc: 0.9453 - val_loss: 1.1487 - val_acc: 0.9191\n",
      "Epoch 25/30\n",
      " - 4s - loss: 0.8049 - acc: 0.9417 - val_loss: 1.2290 - val_acc: 0.9191\n",
      "Epoch 26/30\n",
      " - 4s - loss: 0.7827 - acc: 0.9426 - val_loss: 1.1424 - val_acc: 0.9265\n",
      "\n",
      "Epoch 00026: ReduceLROnPlateau reducing learning rate to 1.0000000474974514e-05.\n",
      "Epoch 27/30\n",
      " - 4s - loss: 0.6838 - acc: 0.9526 - val_loss: 1.1318 - val_acc: 0.9265\n",
      "Epoch 28/30\n",
      " - 4s - loss: 0.7047 - acc: 0.9480 - val_loss: 1.1271 - val_acc: 0.9228\n",
      "Epoch 29/30\n",
      " - 4s - loss: 0.7232 - acc: 0.9453 - val_loss: 1.1267 - val_acc: 0.9265\n",
      "\n",
      "Epoch 00029: ReduceLROnPlateau reducing learning rate to 1e-05.\n",
      "Epoch 30/30\n",
      " - 4s - loss: 0.6718 - acc: 0.9517 - val_loss: 1.1123 - val_acc: 0.9228\n"
     ]
    }
   ],
   "source": [
    "inception_history = model.fit(train_features, \n",
    "                              train_labels, \n",
    "                              epochs = 30,\n",
    "                              batch_size = batch_size,\n",
    "                              validation_data = (test_features, test_labels),\n",
    "                              verbose = 2,\n",
    "                              callbacks = callbacks)"
   ]
  },
  {
   "cell_type": "code",
   "execution_count": 66,
   "metadata": {},
   "outputs": [
    {
     "data": {
      "image/png": "[encoded data removed]",
      "text/plain": [
       "<Figure size 1080x864 with 1 Axes>"
      ]
     },
     "metadata": {
      "needs_background": "light"
     },
     "output_type": "display_data"
    },
    {
     "data": {
      "text/plain": [
       "<Figure size 432x288 with 0 Axes>"
      ]
     },
     "metadata": {},
     "output_type": "display_data"
    },
    {
     "data": {
      "image/png": "[encoded data removed]",
      "text/plain": [
       "<Figure size 1080x864 with 1 Axes>"
      ]
     },
     "metadata": {
      "needs_background": "light"
     },
     "output_type": "display_data"
    }
   ],
   "source": [
    "#call the plot_curves function to plot the loss and accuracy plots for inception model\n",
    "plot_curve(inception_history, \"Inception\")"
   ]
  },
  {
   "cell_type": "markdown",
   "metadata": {},
   "source": [
    "## MODEL 3 - InceptionResnetV2"
   ]
  },
  {
   "cell_type": "code",
   "execution_count": 10,
   "metadata": {},
   "outputs": [],
   "source": [
    "#instantiate the \"INCEPTIONRESNETV2\" model\n",
    "#Here we will use a pretrained \"INCEPTIONRESNETV2\" model trained on IMAGENET dataset\n",
    "#define the parameters required to be passed to our function\n",
    "height = 150\n",
    "width = 150\n",
    "channels = 3\n",
    "batch_size = 32\n",
    "seed = 1337\n",
    "\n",
    "resnet_model = InceptionResNetV2(weights = \"imagenet\", include_top = False, input_shape = (height, width, channels))"
   ]
  },
  {
   "cell_type": "code",
   "execution_count": 11,
   "metadata": {},
   "outputs": [
    {
     "name": "stdout",
     "output_type": "stream",
     "text": [
      "Found 1097 images belonging to 10 classes.\n",
      "Found 272 images belonging to 10 classes.\n"
     ]
    }
   ],
   "source": [
    "#call the generator functions to load our data from the folders\n",
    "\n",
    "train_generator = train_image_data_generator(train_dir = train_dir,\n",
    "                                             height = height,\n",
    "                                             width = height,\n",
    "                                             batch_size = batch_size,\n",
    "                                             seed = seed)\n",
    "\n",
    "test_generator = test_image_data_generator(test_dir = test_dir,\n",
    "                                           height = height,\n",
    "                                           width = width,\n",
    "                                           batch_size = batch_size,\n",
    "                                           seed = seed)"
   ]
  },
  {
   "cell_type": "code",
   "execution_count": 12,
   "metadata": {},
   "outputs": [
    {
     "name": "stdout",
     "output_type": "stream",
     "text": [
      "\n",
      "\n",
      "\n",
      "\n"
     ]
    }
   ],
   "source": [
    "#call the extract features function\n",
    "feature_width = 3 #this the output width of the last inception layer\n",
    "feature_height = 3 #this is the output height of the last inception layer\n",
    "feature_channels = 1536 #this the number of channels in the last inception layer\n",
    "\n",
    "train_features, train_labels = extract_features(train_generator.samples, \n",
    "                                                train_generator, \n",
    "                                                resnet_model,\n",
    "                                                feature_width = feature_width,\n",
    "                                                feature_height = feature_height,\n",
    "                                                feature_channels = feature_channels)\n",
    "\n",
    "test_features, test_labels = extract_features(test_generator.samples, \n",
    "                                              test_generator, \n",
    "                                              resnet_model,\n",
    "                                              feature_width = feature_width,\n",
    "                                              feature_height = feature_height,\n",
    "                                              feature_channels = feature_channels)"
   ]
  },
  {
   "cell_type": "code",
   "execution_count": 13,
   "metadata": {},
   "outputs": [],
   "source": [
    "flat_dim = 3 * 3 * 1536\n",
    "train_features = np.reshape(train_features, (train_generator.samples, flat_dim))\n",
    "test_features = np.reshape(test_features, (test_generator.samples, flat_dim))"
   ]
  },
  {
   "cell_type": "code",
   "execution_count": 14,
   "metadata": {},
   "outputs": [
    {
     "name": "stdout",
     "output_type": "stream",
     "text": [
      "WARNING:tensorflow:From D:\\anaconda3\\lib\\site-packages\\keras\\backend\\tensorflow_backend.py:3445: calling dropout (from tensorflow.python.ops.nn_ops) with keep_prob is deprecated and will be removed in a future version.\n",
      "Instructions for updating:\n",
      "Please use `rate` instead of `keep_prob`. Rate should be set to `rate = 1 - keep_prob`.\n",
      "_________________________________________________________________\n",
      "Layer (type)                 Output Shape              Param #   \n",
      "=================================================================\n",
      "dense_1 (Dense)              (None, 512)               7078400   \n",
      "_________________________________________________________________\n",
      "dropout_1 (Dropout)          (None, 512)               0         \n",
      "_________________________________________________________________\n",
      "dense_2 (Dense)              (None, 256)               131328    \n",
      "_________________________________________________________________\n",
      "dropout_2 (Dropout)          (None, 256)               0         \n",
      "_________________________________________________________________\n",
      "dense_3 (Dense)              (None, 10)                2570      \n",
      "=================================================================\n",
      "Total params: 7,212,298\n",
      "Trainable params: 7,212,298\n",
      "Non-trainable params: 0\n",
      "_________________________________________________________________\n"
     ]
    }
   ],
   "source": [
    "#call the dense_model function to build our classification model\n",
    "model = dense_model()"
   ]
  },
  {
   "cell_type": "code",
   "execution_count": 15,
   "metadata": {},
   "outputs": [],
   "source": [
    "#call the model_callbacks function\n",
    "callbacks = model_callbacks(\"loss\", 0.1, 2, 2, 0.00001)"
   ]
  },
  {
   "cell_type": "code",
   "execution_count": 16,
   "metadata": {},
   "outputs": [
    {
     "name": "stdout",
     "output_type": "stream",
     "text": [
      "WARNING:tensorflow:From D:\\anaconda3\\lib\\site-packages\\tensorflow\\python\\ops\\math_ops.py:3066: to_int32 (from tensorflow.python.ops.math_ops) is deprecated and will be removed in a future version.\n",
      "Instructions for updating:\n",
      "Use tf.cast instead.\n",
      "Train on 1097 samples, validate on 272 samples\n",
      "Epoch 1/30\n",
      " - 8s - loss: 9.2529 - acc: 0.3728 - val_loss: 7.4812 - val_acc: 0.5184\n",
      "Epoch 2/30\n",
      " - 3s - loss: 8.3104 - acc: 0.4704 - val_loss: 7.8823 - val_acc: 0.5074\n",
      "Epoch 3/30\n",
      " - 3s - loss: 7.3961 - acc: 0.5351 - val_loss: 8.3995 - val_acc: 0.4743\n",
      "Epoch 4/30\n",
      " - 3s - loss: 7.5752 - acc: 0.5214 - val_loss: 7.2339 - val_acc: 0.5478\n",
      "Epoch 5/30\n",
      " - 3s - loss: 7.3596 - acc: 0.5387 - val_loss: 7.4354 - val_acc: 0.5294\n",
      "Epoch 6/30\n",
      " - 3s - loss: 7.2680 - acc: 0.5406 - val_loss: 6.7012 - val_acc: 0.5809\n",
      "Epoch 7/30\n",
      " - 3s - loss: 6.9400 - acc: 0.5588 - val_loss: 5.9699 - val_acc: 0.6213\n",
      "Epoch 8/30\n",
      " - 3s - loss: 5.9147 - acc: 0.6253 - val_loss: 5.7569 - val_acc: 0.6360\n",
      "Epoch 9/30\n",
      " - 3s - loss: 6.0769 - acc: 0.6199 - val_loss: 5.8735 - val_acc: 0.6324\n",
      "Epoch 10/30\n",
      " - 3s - loss: 5.7880 - acc: 0.6372 - val_loss: 5.4195 - val_acc: 0.6618\n",
      "Epoch 11/30\n",
      " - 3s - loss: 5.5957 - acc: 0.6509 - val_loss: 5.6378 - val_acc: 0.6471\n",
      "Epoch 12/30\n",
      " - 3s - loss: 5.6280 - acc: 0.6454 - val_loss: 5.5608 - val_acc: 0.6471\n",
      "Epoch 13/30\n",
      " - 3s - loss: 5.6819 - acc: 0.6427 - val_loss: 5.5029 - val_acc: 0.6581\n",
      "\n",
      "Epoch 00013: ReduceLROnPlateau reducing learning rate to 0.00010000000474974513.\n",
      "Epoch 14/30\n",
      " - 3s - loss: 5.4208 - acc: 0.6609 - val_loss: 5.4606 - val_acc: 0.6581\n",
      "Epoch 15/30\n",
      " - 3s - loss: 5.4089 - acc: 0.6627 - val_loss: 5.4387 - val_acc: 0.6544\n",
      "Epoch 16/30\n",
      " - 3s - loss: 5.3725 - acc: 0.6627 - val_loss: 5.4828 - val_acc: 0.6544\n",
      "Epoch 17/30\n",
      " - 4s - loss: 5.3144 - acc: 0.6655 - val_loss: 5.4468 - val_acc: 0.6544\n",
      "Epoch 18/30\n",
      " - 4s - loss: 5.2356 - acc: 0.6746 - val_loss: 5.4602 - val_acc: 0.6581\n",
      "Epoch 19/30\n",
      " - 4s - loss: 5.3560 - acc: 0.6664 - val_loss: 5.5489 - val_acc: 0.6507\n",
      "Epoch 20/30\n",
      " - 4s - loss: 5.4505 - acc: 0.6609 - val_loss: 5.6170 - val_acc: 0.6471\n",
      "\n",
      "Epoch 00020: ReduceLROnPlateau reducing learning rate to 1.0000000474974514e-05.\n",
      "Epoch 21/30\n",
      " - 4s - loss: 5.3413 - acc: 0.6636 - val_loss: 5.6129 - val_acc: 0.6471\n",
      "Epoch 22/30\n",
      " - 3s - loss: 5.3856 - acc: 0.6636 - val_loss: 5.6173 - val_acc: 0.6471\n",
      "Epoch 23/30\n",
      " - 4s - loss: 5.2737 - acc: 0.6691 - val_loss: 5.6021 - val_acc: 0.6507\n",
      "\n",
      "Epoch 00023: ReduceLROnPlateau reducing learning rate to 1e-05.\n",
      "Epoch 24/30\n",
      " - 4s - loss: 5.2966 - acc: 0.6682 - val_loss: 5.5520 - val_acc: 0.6507\n",
      "Epoch 25/30\n",
      " - 4s - loss: 5.2590 - acc: 0.6727 - val_loss: 5.5368 - val_acc: 0.6544\n",
      "Epoch 26/30\n",
      " - 3s - loss: 5.2838 - acc: 0.6682 - val_loss: 5.5658 - val_acc: 0.6544\n",
      "Epoch 27/30\n",
      " - 3s - loss: 5.3301 - acc: 0.6682 - val_loss: 5.5416 - val_acc: 0.6544\n",
      "Epoch 28/30\n",
      " - 3s - loss: 5.2953 - acc: 0.6709 - val_loss: 5.5297 - val_acc: 0.6544\n",
      "Epoch 29/30\n",
      " - 4s - loss: 5.2606 - acc: 0.6718 - val_loss: 5.5194 - val_acc: 0.6544\n",
      "Epoch 30/30\n",
      " - 4s - loss: 5.3214 - acc: 0.6682 - val_loss: 5.5145 - val_acc: 0.6544\n"
     ]
    }
   ],
   "source": [
    "resnet_history = model.fit(train_features, \n",
    "                           train_labels, \n",
    "                           epochs = 30,\n",
    "                           batch_size = batch_size,\n",
    "                           validation_data = (test_features, test_labels),\n",
    "                           verbose = 2,\n",
    "                           callbacks = callbacks)"
   ]
  },
  {
   "cell_type": "code",
   "execution_count": 17,
   "metadata": {},
   "outputs": [
    {
     "data": {
      "image/png": "[encoded data removed]",
      "text/plain": [
       "<Figure size 1080x864 with 1 Axes>"
      ]
     },
     "metadata": {
      "needs_background": "light"
     },
     "output_type": "display_data"
    },
    {
     "data": {
      "text/plain": [
       "<Figure size 432x288 with 0 Axes>"
      ]
     },
     "metadata": {},
     "output_type": "display_data"
    },
    {
     "data": {
      "image/png": "[encoded data removed]",
      "text/plain": [
       "<Figure size 1080x864 with 1 Axes>"
      ]
     },
     "metadata": {
      "needs_background": "light"
     },
     "output_type": "display_data"
    }
   ],
   "source": [
    "#call the plot_curves function to plot the loss and accuracy plots for inception model\n",
    "plot_curve(resnet_history, \"InceptionResnet\")"
   ]
  },
  {
   "cell_type": "code",
   "execution_count": null,
   "metadata": {},
   "outputs": [],
   "source": []
  }
 ],
 "metadata": {
  "kernelspec": {
   "display_name": "Python 3",
   "language": "python",
   "name": "python3"
  },
  "language_info": {
   "codemirror_mode": {
    "name": "ipython",
    "version": 3
   },
   "file_extension": ".py",
   "mimetype": "text/x-python",
   "name": "python",
   "nbconvert_exporter": "python",
   "pygments_lexer": "ipython3",
   "version": "3.6.5"
  }
 },
 "nbformat": 4,
 "nbformat_minor": 2
}
